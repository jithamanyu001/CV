{
  "nbformat": 4,
  "nbformat_minor": 0,
  "metadata": {
    "colab": {
      "provenance": [],
      "authorship_tag": "ABX9TyMBLu5K/cmokBTLe/b1P0Kv",
      "include_colab_link": true
    },
    "kernelspec": {
      "name": "python3",
      "display_name": "Python 3"
    },
    "language_info": {
      "name": "python"
    }
  },
  "cells": [
    {
      "cell_type": "markdown",
      "metadata": {
        "id": "view-in-github",
        "colab_type": "text"
      },
      "source": [
        "<a href=\"https://colab.research.google.com/github/jithamanyu001/CV/blob/main/Autoencoder_tf.ipynb\" target=\"_parent\"><img src=\"https://colab.research.google.com/assets/colab-badge.svg\" alt=\"Open In Colab\"/></a>"
      ]
    },
    {
      "cell_type": "code",
      "execution_count": 2,
      "metadata": {
        "id": "i9C3C7bZTW2n"
      },
      "outputs": [],
      "source": [
        "import tensorflow as tf\n",
        "from tensorflow.keras.datasets.mnist import load_data"
      ]
    },
    {
      "cell_type": "code",
      "source": [
        "(X_train,Y_train),(X_test,Y_test)=load_data()"
      ],
      "metadata": {
        "id": "6pgqERwDT5gG"
      },
      "execution_count": 62,
      "outputs": []
    },
    {
      "cell_type": "code",
      "source": [
        "train=X_train[:1000]\n",
        "test=X_test[:10]"
      ],
      "metadata": {
        "id": "yF4iqLTGUdEB"
      },
      "execution_count": 63,
      "outputs": []
    },
    {
      "cell_type": "code",
      "source": [
        "i=tf.keras.layers.Input(shape=train[0].shape + (1,))\n",
        "x=tf.keras.layers.Conv2D(8,3,2,activation='relu')(i)\n",
        "x=tf.keras.layers.Conv2D(16,3,2,activation='relu')(x)\n",
        "x=tf.keras.layers.Conv2D(32,3,2,activation='relu')(x)\n",
        "x=tf.keras.layers.Conv2D(62,2,activation='relu')(x)\n",
        "x=tf.keras.layers.Conv2DTranspose(8,5,2,activation='relu')(x)\n",
        "x=tf.keras.layers.Conv2DTranspose(16,5,2,activation='relu')(x)\n",
        "x=tf.keras.layers.Conv2DTranspose(1,4,2,activation='relu')(x)\n",
        "\n",
        "autoencoder=tf.keras.models.Model(i,x)\n",
        "autoencoder.summary()\n"
      ],
      "metadata": {
        "colab": {
          "base_uri": "https://localhost:8080/"
        },
        "id": "gg4Qhq2GUo0d",
        "outputId": "78194cc1-68ee-4fb8-b927-65fb056f2014"
      },
      "execution_count": 53,
      "outputs": [
        {
          "output_type": "stream",
          "name": "stdout",
          "text": [
            "Model: \"model_46\"\n",
            "_________________________________________________________________\n",
            " Layer (type)                Output Shape              Param #   \n",
            "=================================================================\n",
            " input_59 (InputLayer)       [(None, 28, 28, 1)]       0         \n",
            "                                                                 \n",
            " conv2d_111 (Conv2D)         (None, 13, 13, 8)         80        \n",
            "                                                                 \n",
            " conv2d_112 (Conv2D)         (None, 6, 6, 16)          1168      \n",
            "                                                                 \n",
            " conv2d_113 (Conv2D)         (None, 2, 2, 32)          4640      \n",
            "                                                                 \n",
            " conv2d_114 (Conv2D)         (None, 1, 1, 62)          7998      \n",
            "                                                                 \n",
            " conv2d_transpose_72 (Conv2D  (None, 5, 5, 8)          12408     \n",
            " Transpose)                                                      \n",
            "                                                                 \n",
            " conv2d_transpose_73 (Conv2D  (None, 13, 13, 16)       3216      \n",
            " Transpose)                                                      \n",
            "                                                                 \n",
            " conv2d_transpose_74 (Conv2D  (None, 28, 28, 1)        257       \n",
            " Transpose)                                                      \n",
            "                                                                 \n",
            "=================================================================\n",
            "Total params: 29,767\n",
            "Trainable params: 29,767\n",
            "Non-trainable params: 0\n",
            "_________________________________________________________________\n"
          ]
        }
      ]
    },
    {
      "cell_type": "code",
      "source": [
        "X_train=X_train/255.0\n",
        "X_test=X_test/255.0"
      ],
      "metadata": {
        "id": "IqMkr4kpgfzd"
      },
      "execution_count": 64,
      "outputs": []
    },
    {
      "cell_type": "code",
      "source": [
        "autoencoder.compile(optimizer=\"adam\", loss='binary_crossentropy',metrics=['acc'])"
      ],
      "metadata": {
        "id": "1CKxVpsFdZ39"
      },
      "execution_count": 65,
      "outputs": []
    },
    {
      "cell_type": "code",
      "source": [
        "r=autoencoder.fit(X_train,X_train,validation_data=(X_test,X_test),epochs=50,batch_size=100)"
      ],
      "metadata": {
        "colab": {
          "base_uri": "https://localhost:8080/"
        },
        "id": "JOu4LFKsc7wA",
        "outputId": "f4b9f347-dcf4-496e-829c-97fdc3344d65"
      },
      "execution_count": 66,
      "outputs": [
        {
          "output_type": "stream",
          "name": "stdout",
          "text": [
            "Epoch 1/50\n",
            "600/600 [==============================] - 13s 21ms/step - loss: 0.1967 - acc: 0.8050 - val_loss: -506.2209 - val_acc: 0.4748\n",
            "Epoch 2/50\n",
            "600/600 [==============================] - 13s 21ms/step - loss: 0.1772 - acc: 0.8071 - val_loss: -505.5951 - val_acc: 0.5153\n",
            "Epoch 3/50\n",
            "600/600 [==============================] - 13s 21ms/step - loss: 0.1654 - acc: 0.8078 - val_loss: -505.9456 - val_acc: 0.5681\n",
            "Epoch 4/50\n",
            "600/600 [==============================] - 12s 21ms/step - loss: 0.1687 - acc: 0.8076 - val_loss: -506.9724 - val_acc: 0.5892\n",
            "Epoch 5/50\n",
            "600/600 [==============================] - 13s 22ms/step - loss: 0.1718 - acc: 0.8075 - val_loss: -506.9720 - val_acc: 0.5351\n",
            "Epoch 6/50\n",
            "600/600 [==============================] - 13s 21ms/step - loss: 0.1704 - acc: 0.8070 - val_loss: -505.9867 - val_acc: 0.6007\n",
            "Epoch 7/50\n",
            "600/600 [==============================] - 13s 21ms/step - loss: 0.1561 - acc: 0.8085 - val_loss: -506.7032 - val_acc: 0.5956\n",
            "Epoch 8/50\n",
            "600/600 [==============================] - 13s 21ms/step - loss: 0.1521 - acc: 0.8091 - val_loss: -507.0205 - val_acc: 0.5852\n",
            "Epoch 9/50\n",
            "600/600 [==============================] - 13s 22ms/step - loss: 0.1574 - acc: 0.8089 - val_loss: -505.6749 - val_acc: 0.5690\n",
            "Epoch 10/50\n",
            "600/600 [==============================] - 13s 21ms/step - loss: 0.1637 - acc: 0.8084 - val_loss: -503.9931 - val_acc: 0.5588\n",
            "Epoch 11/50\n",
            "600/600 [==============================] - 13s 22ms/step - loss: 0.1569 - acc: 0.8085 - val_loss: -507.1642 - val_acc: 0.6284\n",
            "Epoch 12/50\n",
            "600/600 [==============================] - 13s 22ms/step - loss: 0.1508 - acc: 0.8098 - val_loss: -505.1522 - val_acc: 0.5686\n",
            "Epoch 13/50\n",
            "600/600 [==============================] - 13s 22ms/step - loss: 0.1710 - acc: 0.8085 - val_loss: -506.2301 - val_acc: 0.5738\n",
            "Epoch 14/50\n",
            "600/600 [==============================] - 13s 21ms/step - loss: 0.1495 - acc: 0.8098 - val_loss: -506.5842 - val_acc: 0.6068\n",
            "Epoch 15/50\n",
            "600/600 [==============================] - 14s 23ms/step - loss: 0.1459 - acc: 0.8096 - val_loss: -507.0419 - val_acc: 0.6046\n",
            "Epoch 16/50\n",
            "600/600 [==============================] - 13s 21ms/step - loss: 0.1802 - acc: 0.8065 - val_loss: -484.3415 - val_acc: 0.5763\n",
            "Epoch 17/50\n",
            "600/600 [==============================] - 13s 22ms/step - loss: 0.1585 - acc: 0.8087 - val_loss: -506.9602 - val_acc: 0.6096\n",
            "Epoch 18/50\n",
            "600/600 [==============================] - 13s 22ms/step - loss: 0.1462 - acc: 0.8096 - val_loss: -506.5087 - val_acc: 0.6134\n",
            "Epoch 19/50\n",
            "600/600 [==============================] - 13s 22ms/step - loss: 0.1503 - acc: 0.8095 - val_loss: -505.9594 - val_acc: 0.5753\n",
            "Epoch 20/50\n",
            "600/600 [==============================] - 13s 22ms/step - loss: 0.1404 - acc: 0.8102 - val_loss: -506.6952 - val_acc: 0.6281\n",
            "Epoch 21/50\n",
            "600/600 [==============================] - 13s 22ms/step - loss: 0.1341 - acc: 0.8109 - val_loss: -507.0591 - val_acc: 0.6326\n",
            "Epoch 22/50\n",
            "600/600 [==============================] - 13s 22ms/step - loss: 0.1446 - acc: 0.8097 - val_loss: -506.5565 - val_acc: 0.5991\n",
            "Epoch 23/50\n",
            "600/600 [==============================] - 13s 22ms/step - loss: 0.1516 - acc: 0.8096 - val_loss: -505.1076 - val_acc: 0.6312\n",
            "Epoch 24/50\n",
            "600/600 [==============================] - 13s 22ms/step - loss: 0.1589 - acc: 0.8087 - val_loss: -502.5984 - val_acc: 0.6480\n",
            "Epoch 25/50\n",
            "600/600 [==============================] - 13s 22ms/step - loss: 0.1502 - acc: 0.8088 - val_loss: -503.4761 - val_acc: 0.6404\n",
            "Epoch 26/50\n",
            "600/600 [==============================] - 13s 22ms/step - loss: 0.1546 - acc: 0.8082 - val_loss: -482.9157 - val_acc: 0.6148\n",
            "Epoch 27/50\n",
            "600/600 [==============================] - 13s 22ms/step - loss: 0.1499 - acc: 0.8093 - val_loss: -498.4502 - val_acc: 0.6901\n",
            "Epoch 28/50\n",
            "600/600 [==============================] - 13s 22ms/step - loss: 0.1369 - acc: 0.8105 - val_loss: -501.4933 - val_acc: 0.6709\n",
            "Epoch 29/50\n",
            "600/600 [==============================] - 13s 22ms/step - loss: 0.1356 - acc: 0.8106 - val_loss: -503.6711 - val_acc: 0.6823\n",
            "Epoch 30/50\n",
            "600/600 [==============================] - 13s 22ms/step - loss: 0.1705 - acc: 0.8090 - val_loss: -479.3068 - val_acc: 0.6514\n",
            "Epoch 31/50\n",
            "600/600 [==============================] - 14s 23ms/step - loss: 0.1540 - acc: 0.8085 - val_loss: -495.1419 - val_acc: 0.6924\n",
            "Epoch 32/50\n",
            "600/600 [==============================] - 13s 22ms/step - loss: 0.1534 - acc: 0.8085 - val_loss: -496.3661 - val_acc: 0.6679\n",
            "Epoch 33/50\n",
            "600/600 [==============================] - 13s 21ms/step - loss: 0.1400 - acc: 0.8095 - val_loss: -499.1106 - val_acc: 0.6655\n",
            "Epoch 34/50\n",
            "600/600 [==============================] - 13s 21ms/step - loss: 0.1480 - acc: 0.8090 - val_loss: -495.5181 - val_acc: 0.6591\n",
            "Epoch 35/50\n",
            "600/600 [==============================] - 13s 21ms/step - loss: 0.1428 - acc: 0.8097 - val_loss: -498.2172 - val_acc: 0.6779\n",
            "Epoch 36/50\n",
            "600/600 [==============================] - 13s 21ms/step - loss: 0.1341 - acc: 0.8106 - val_loss: -500.5920 - val_acc: 0.6962\n",
            "Epoch 37/50\n",
            "600/600 [==============================] - 13s 21ms/step - loss: 0.1397 - acc: 0.8099 - val_loss: -497.4200 - val_acc: 0.6949\n",
            "Epoch 38/50\n",
            "600/600 [==============================] - 13s 21ms/step - loss: 0.1304 - acc: 0.8109 - val_loss: -500.5738 - val_acc: 0.6910\n",
            "Epoch 39/50\n",
            "600/600 [==============================] - 13s 21ms/step - loss: 0.1282 - acc: 0.8112 - val_loss: -501.2541 - val_acc: 0.6852\n",
            "Epoch 40/50\n",
            "600/600 [==============================] - 13s 21ms/step - loss: 0.1318 - acc: 0.8108 - val_loss: -503.7393 - val_acc: 0.6755\n",
            "Epoch 41/50\n",
            "600/600 [==============================] - 13s 21ms/step - loss: 0.1748 - acc: 0.8069 - val_loss: -489.6216 - val_acc: 0.6608\n",
            "Epoch 42/50\n",
            "600/600 [==============================] - 13s 21ms/step - loss: 0.1452 - acc: 0.8091 - val_loss: -492.6678 - val_acc: 0.7096\n",
            "Epoch 43/50\n",
            "600/600 [==============================] - 13s 21ms/step - loss: 0.1334 - acc: 0.8105 - val_loss: -492.7590 - val_acc: 0.7071\n",
            "Epoch 44/50\n",
            "600/600 [==============================] - 13s 21ms/step - loss: 0.1494 - acc: 0.8092 - val_loss: -476.7881 - val_acc: 0.7192\n",
            "Epoch 45/50\n",
            "600/600 [==============================] - 13s 21ms/step - loss: 0.1436 - acc: 0.8096 - val_loss: -478.8416 - val_acc: 0.7211\n",
            "Epoch 46/50\n",
            "600/600 [==============================] - 13s 21ms/step - loss: 0.1381 - acc: 0.8104 - val_loss: -491.0877 - val_acc: 0.7307\n",
            "Epoch 47/50\n",
            "600/600 [==============================] - 13s 22ms/step - loss: 0.1298 - acc: 0.8112 - val_loss: -492.1603 - val_acc: 0.7316\n",
            "Epoch 48/50\n",
            "600/600 [==============================] - 13s 21ms/step - loss: 0.1313 - acc: 0.8108 - val_loss: -492.1090 - val_acc: 0.7346\n",
            "Epoch 49/50\n",
            "600/600 [==============================] - 13s 22ms/step - loss: 0.1315 - acc: 0.8108 - val_loss: -497.0588 - val_acc: 0.6778\n",
            "Epoch 50/50\n",
            "600/600 [==============================] - 15s 24ms/step - loss: 0.1333 - acc: 0.8107 - val_loss: -496.1176 - val_acc: 0.7256\n"
          ]
        }
      ]
    },
    {
      "cell_type": "code",
      "source": [
        "import matplotlib.pyplot as plt\n",
        "import numpy as np\n",
        "\n",
        "def display(array1, array2):\n",
        "    \"\"\"\n",
        "    Displays ten random images from each one of the supplied arrays.\n",
        "    \"\"\"\n",
        "\n",
        "    n = 10\n",
        "\n",
        "    indices = np.random.randint(len(array1), size=n)\n",
        "    images1 = array1[indices, :]\n",
        "    images2 = array2[indices, :]\n",
        "\n",
        "    plt.figure(figsize=(20, 4))\n",
        "    for i, (image1, image2) in enumerate(zip(images1, images2)):\n",
        "        ax = plt.subplot(2, n, i + 1)\n",
        "        plt.imshow(image1.reshape(28, 28))\n",
        "        plt.gray()\n",
        "        ax.get_xaxis().set_visible(False)\n",
        "        ax.get_yaxis().set_visible(False)\n",
        "\n",
        "        ax = plt.subplot(2, n, i + 1 + n)\n",
        "        plt.imshow(image2.reshape(28, 28))\n",
        "        plt.gray()\n",
        "        ax.get_xaxis().set_visible(False)\n",
        "        ax.get_yaxis().set_visible(False)\n",
        "\n",
        "    plt.show()\n",
        "display(X_test[:10],autoencoder(X_test[:10]).numpy())"
      ],
      "metadata": {
        "colab": {
          "base_uri": "https://localhost:8080/",
          "height": 192
        },
        "id": "VqomqkvddpoC",
        "outputId": "be1043ed-e7d4-48f2-a511-22a77fd46267"
      },
      "execution_count": 69,
      "outputs": [
        {
          "output_type": "display_data",
          "data": {
            "text/plain": [
              "<Figure size 1440x288 with 20 Axes>"
            ],
            "image/png": "[encoded data removed]"
          },
          "metadata": {
            "needs_background": "light"
          }
        }
      ]
    },
    {
      "cell_type": "code",
      "source": [],
      "metadata": {
        "id": "d1IpiBcnjm4W"
      },
      "execution_count": null,
      "outputs": []
    }
  ]
}